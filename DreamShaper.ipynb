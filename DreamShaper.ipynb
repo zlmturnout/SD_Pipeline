{
 "cells": [
  {
   "cell_type": "code",
   "execution_count": 3,
   "metadata": {},
   "outputs": [
    {
     "name": "stderr",
     "output_type": "stream",
     "text": [
      "Loading pipeline components...:  43%|████▎     | 3/7 [00:00<00:01,  3.43it/s]i:\\Coding\\PythonENV\\MLSD\\Lib\\site-packages\\transformers\\models\\clip\\feature_extraction_clip.py:28: FutureWarning: The class CLIPFeatureExtractor is deprecated and will be removed in version 5 of Transformers. Please use CLIPImageProcessor instead.\n",
      "  warnings.warn(\n",
      "Loading pipeline components...: 100%|██████████| 7/7 [00:01<00:00,  6.87it/s]\n",
      "100%|██████████| 25/25 [00:03<00:00,  7.94it/s]\n"
     ]
    }
   ],
   "source": [
    "from diffusers import AutoPipelineForText2Image, DEISMultistepScheduler\n",
    "import torch\n",
    "\n",
    "pipe = AutoPipelineForText2Image.from_pretrained('dreamshaper-8', torch_dtype=torch.float16, variant=\"fp16\")\n",
    "pipe.scheduler = DEISMultistepScheduler.from_config(pipe.scheduler.config)\n",
    "pipe = pipe.to(\"cuda\")\n",
    "\n",
    "prompt = \"portrait photo of muscular bearded guy in a worn mech suit, light bokeh, intricate, steel metal, elegant, sharp focus, soft lighting, vibrant colors\"\n",
    "\n",
    "generator = torch.manual_seed(33)\n",
    "image = pipe(prompt, generator=generator, num_inference_steps=25).images[0]  \n",
    "image.save(\"./imageshaper.png\")\n"
   ]
  }
 ],
 "metadata": {
  "kernelspec": {
   "display_name": "MLSD",
   "language": "python",
   "name": "python3"
  },
  "language_info": {
   "codemirror_mode": {
    "name": "ipython",
    "version": 3
   },
   "file_extension": ".py",
   "mimetype": "text/x-python",
   "name": "python",
   "nbconvert_exporter": "python",
   "pygments_lexer": "ipython3",
   "version": "3.11.0"
  },
  "orig_nbformat": 4
 },
 "nbformat": 4,
 "nbformat_minor": 2
}
